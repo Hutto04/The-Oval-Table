{
 "cells": [
  {
   "cell_type": "markdown",
   "metadata": {},
   "source": [
    "## Combined_Log_Clean_NoNeg.csv\n",
    "### Dataset derived from `Combined_Log_Clean.csv`\n",
    "#### All blanks removed and all negative values removed"
   ]
  },
  {
   "cell_type": "code",
   "execution_count": 1,
   "metadata": {},
   "outputs": [],
   "source": [
    "import pandas as pd\n",
    "\n",
    "# read the combined dataset\n",
    "df = pd.read_csv('./CSV/Combined_Log_Clean.csv')\n",
    "\n",
    "# 1. Drop columns that contain 50% or more negatives, excluding the first column (index)\n",
    "cols_to_drop = [col for col in df.columns[1:] if df[col].dtype in ['float64', 'int64'] and (df[col] < 0).mean() >= 0.5]\n",
    "df = df.drop(columns=cols_to_drop)\n",
    "\n",
    "# 2. Drop rows that contain any negatives excluding the first column\n",
    "rows_with_neg = df[(df[df.columns[1:]].select_dtypes(['float64', 'int64']) < 0).any(axis=1)].index\n",
    "df = df.drop(index=rows_with_neg)\n",
    "\n",
    "# save to csv\n",
    "df.to_csv('./CSV/Combined_Log_Clean_NoNeg.csv', index=False)\n"
   ]
  },
  {
   "cell_type": "markdown",
   "metadata": {},
   "source": [
    "### Row and column information"
   ]
  },
  {
   "cell_type": "code",
   "execution_count": 2,
   "metadata": {},
   "outputs": [
    {
     "name": "stdout",
     "output_type": "stream",
     "text": [
      "<class 'pandas.core.frame.DataFrame'>\n",
      "Index: 97 entries, 1 to 259\n",
      "Columns: 124 entries, date to Real Oil Prices\n",
      "dtypes: float64(123), object(1)\n",
      "memory usage: 94.7+ KB\n"
     ]
    }
   ],
   "source": [
    "df.info()"
   ]
  },
  {
   "cell_type": "markdown",
   "metadata": {},
   "source": [
    "### Statistical data of the real oil price dataset after log transformation"
   ]
  },
  {
   "cell_type": "code",
   "execution_count": 3,
   "metadata": {},
   "outputs": [
    {
     "name": "stdout",
     "output_type": "stream",
     "text": [
      "Descriptive Statistics for 'Real Oil Prices':\n",
      "count    97.000000\n",
      "mean      2.973263\n",
      "std       0.410823\n",
      "min       2.295038\n",
      "25%       2.610197\n",
      "50%       2.976063\n",
      "75%       3.382343\n",
      "max       3.657681\n",
      "Name: Real Oil Prices, dtype: float64\n"
     ]
    }
   ],
   "source": [
    "# Descriptive statistics of real oil price\n",
    "print(\"Descriptive Statistics for 'Real Oil Prices':\")\n",
    "print(df['Real Oil Prices'].describe())"
   ]
  },
  {
   "cell_type": "markdown",
   "metadata": {},
   "source": [
    "### Count Missing Values (blanks and NaNs) in the dataset"
   ]
  },
  {
   "cell_type": "code",
   "execution_count": 4,
   "metadata": {},
   "outputs": [
    {
     "name": "stdout",
     "output_type": "stream",
     "text": [
      "Total missing values: 0\n",
      "date               0\n",
      "RPI                0\n",
      "W875RX1            0\n",
      "DPCERA3M086SBEA    0\n",
      "CMRMTSPLx          0\n",
      "                  ..\n",
      "DTCOLNVHFNM        0\n",
      "DTCTHFNM           0\n",
      "INVEST             0\n",
      "VIXCLSx            0\n",
      "Real Oil Prices    0\n",
      "Length: 124, dtype: int64\n"
     ]
    }
   ],
   "source": [
    "missing_values_count = df.isnull().sum() # if missing or NaN values exist, they will be counted and return True\n",
    "total_missing_values = missing_values_count.sum()\n",
    "print(f'Total missing values: {total_missing_values}')\n",
    "print(missing_values_count) "
   ]
  },
  {
   "cell_type": "markdown",
   "metadata": {},
   "source": [
    "### Count Zeros"
   ]
  },
  {
   "cell_type": "code",
   "execution_count": 5,
   "metadata": {},
   "outputs": [
    {
     "name": "stdout",
     "output_type": "stream",
     "text": [
      "Total zero values: 6\n",
      "date               0\n",
      "RPI                0\n",
      "W875RX1            0\n",
      "DPCERA3M086SBEA    0\n",
      "CMRMTSPLx          0\n",
      "                  ..\n",
      "DTCOLNVHFNM        0\n",
      "DTCTHFNM           0\n",
      "INVEST             0\n",
      "VIXCLSx            0\n",
      "Real Oil Prices    0\n",
      "Length: 124, dtype: int64\n"
     ]
    }
   ],
   "source": [
    "zero_values_count = (df == 0).astype(int).sum(axis=0)\n",
    "total_zero_values = zero_values_count.sum()\n",
    "print(f'Total zero values: {total_zero_values}')\n",
    "print(zero_values_count)"
   ]
  },
  {
   "cell_type": "markdown",
   "metadata": {},
   "source": [
    "### Count Negative Values"
   ]
  },
  {
   "cell_type": "code",
   "execution_count": 6,
   "metadata": {},
   "outputs": [
    {
     "name": "stdout",
     "output_type": "stream",
     "text": [
      "Total negative values: 0\n",
      "RPI                0\n",
      "W875RX1            0\n",
      "DPCERA3M086SBEA    0\n",
      "CMRMTSPLx          0\n",
      "RETAILx            0\n",
      "                  ..\n",
      "DTCOLNVHFNM        0\n",
      "DTCTHFNM           0\n",
      "INVEST             0\n",
      "VIXCLSx            0\n",
      "Real Oil Prices    0\n",
      "Length: 123, dtype: int64\n"
     ]
    }
   ],
   "source": [
    "# Select only the numeric columns from DataFrame\n",
    "numeric_df = df.select_dtypes(include=['number'])\n",
    "\n",
    "negative_values_count = (numeric_df < 0).sum()\n",
    "total_negative_values = negative_values_count.sum()\n",
    "print(f'Total negative values: {total_negative_values}')\n",
    "print(negative_values_count)"
   ]
  }
 ],
 "metadata": {
  "kernelspec": {
   "display_name": "Python 3",
   "language": "python",
   "name": "python3"
  },
  "language_info": {
   "codemirror_mode": {
    "name": "ipython",
    "version": 3
   },
   "file_extension": ".py",
   "mimetype": "text/x-python",
   "name": "python",
   "nbconvert_exporter": "python",
   "pygments_lexer": "ipython3",
   "version": "3.10.12"
  }
 },
 "nbformat": 4,
 "nbformat_minor": 2
}
