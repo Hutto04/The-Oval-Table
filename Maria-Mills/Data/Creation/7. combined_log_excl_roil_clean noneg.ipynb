{
 "cells": [
  {
   "cell_type": "markdown",
   "metadata": {},
   "source": [
    "## Combined_Log_Excl_Roil_Clean_NoNeg.csv\n",
    "### Dataset derived from `Combined_Log_Transformed_Excl_Roil_Clean.csv`\n",
    "#### All blanks removed and negative values removed"
   ]
  },
  {
   "cell_type": "code",
   "execution_count": 3,
   "metadata": {},
   "outputs": [
    {
     "data": {
      "text/html": [
       "<div>\n",
       "<style scoped>\n",
       "    .dataframe tbody tr th:only-of-type {\n",
       "        vertical-align: middle;\n",
       "    }\n",
       "\n",
       "    .dataframe tbody tr th {\n",
       "        vertical-align: top;\n",
       "    }\n",
       "\n",
       "    .dataframe thead th {\n",
       "        text-align: right;\n",
       "    }\n",
       "</style>\n",
       "<table border=\"1\" class=\"dataframe\">\n",
       "  <thead>\n",
       "    <tr style=\"text-align: right;\">\n",
       "      <th></th>\n",
       "      <th>date</th>\n",
       "      <th>RPI</th>\n",
       "      <th>W875RX1</th>\n",
       "      <th>DPCERA3M086SBEA</th>\n",
       "      <th>CMRMTSPLx</th>\n",
       "      <th>RETAILx</th>\n",
       "      <th>INDPRO</th>\n",
       "      <th>IPFPNSS</th>\n",
       "      <th>IPFINAL</th>\n",
       "      <th>IPCONGD</th>\n",
       "      <th>...</th>\n",
       "      <th>DSERRG3M086SBEA</th>\n",
       "      <th>CES0600000008</th>\n",
       "      <th>CES2000000008</th>\n",
       "      <th>CES3000000008</th>\n",
       "      <th>UMCSENTx</th>\n",
       "      <th>DTCOLNVHFNM</th>\n",
       "      <th>DTCTHFNM</th>\n",
       "      <th>INVEST</th>\n",
       "      <th>VIXCLSx</th>\n",
       "      <th>Real Oil Prices</th>\n",
       "    </tr>\n",
       "  </thead>\n",
       "  <tbody>\n",
       "    <tr>\n",
       "      <th>1</th>\n",
       "      <td>1992-03</td>\n",
       "      <td>8.986886</td>\n",
       "      <td>8.839001</td>\n",
       "      <td>4.024816</td>\n",
       "      <td>13.544280</td>\n",
       "      <td>12.005919</td>\n",
       "      <td>4.134350</td>\n",
       "      <td>4.262926</td>\n",
       "      <td>4.237888</td>\n",
       "      <td>4.394678</td>\n",
       "      <td>...</td>\n",
       "      <td>4.065979</td>\n",
       "      <td>2.478218</td>\n",
       "      <td>2.621766</td>\n",
       "      <td>2.426571</td>\n",
       "      <td>4.330733</td>\n",
       "      <td>11.050763</td>\n",
       "      <td>12.159442</td>\n",
       "      <td>6.619469</td>\n",
       "      <td>2.786412</td>\n",
       "      <td>13.601725</td>\n",
       "    </tr>\n",
       "    <tr>\n",
       "      <th>2</th>\n",
       "      <td>1992-04</td>\n",
       "      <td>8.990617</td>\n",
       "      <td>8.841752</td>\n",
       "      <td>4.025655</td>\n",
       "      <td>13.550922</td>\n",
       "      <td>12.011936</td>\n",
       "      <td>4.142042</td>\n",
       "      <td>4.270416</td>\n",
       "      <td>4.245491</td>\n",
       "      <td>4.404083</td>\n",
       "      <td>...</td>\n",
       "      <td>4.069727</td>\n",
       "      <td>2.481568</td>\n",
       "      <td>2.622492</td>\n",
       "      <td>2.430099</td>\n",
       "      <td>4.346399</td>\n",
       "      <td>11.071004</td>\n",
       "      <td>12.159567</td>\n",
       "      <td>6.628021</td>\n",
       "      <td>2.784301</td>\n",
       "      <td>14.512195</td>\n",
       "    </tr>\n",
       "    <tr>\n",
       "      <th>4</th>\n",
       "      <td>1992-06</td>\n",
       "      <td>9.000118</td>\n",
       "      <td>8.851692</td>\n",
       "      <td>4.033497</td>\n",
       "      <td>13.552670</td>\n",
       "      <td>12.020207</td>\n",
       "      <td>4.145887</td>\n",
       "      <td>4.273481</td>\n",
       "      <td>4.248251</td>\n",
       "      <td>4.405713</td>\n",
       "      <td>...</td>\n",
       "      <td>4.072355</td>\n",
       "      <td>2.485740</td>\n",
       "      <td>2.630449</td>\n",
       "      <td>2.434490</td>\n",
       "      <td>4.387014</td>\n",
       "      <td>11.051223</td>\n",
       "      <td>12.169043</td>\n",
       "      <td>6.652466</td>\n",
       "      <td>2.691453</td>\n",
       "      <td>15.981442</td>\n",
       "    </tr>\n",
       "    <tr>\n",
       "      <th>5</th>\n",
       "      <td>1992-07</td>\n",
       "      <td>8.999322</td>\n",
       "      <td>8.850346</td>\n",
       "      <td>4.036839</td>\n",
       "      <td>13.565973</td>\n",
       "      <td>12.027287</td>\n",
       "      <td>4.154825</td>\n",
       "      <td>4.283439</td>\n",
       "      <td>4.259519</td>\n",
       "      <td>4.418656</td>\n",
       "      <td>...</td>\n",
       "      <td>4.076435</td>\n",
       "      <td>2.484907</td>\n",
       "      <td>2.623218</td>\n",
       "      <td>2.436242</td>\n",
       "      <td>4.338597</td>\n",
       "      <td>11.060620</td>\n",
       "      <td>12.169643</td>\n",
       "      <td>6.666419</td>\n",
       "      <td>2.588035</td>\n",
       "      <td>15.501779</td>\n",
       "    </tr>\n",
       "    <tr>\n",
       "      <th>9</th>\n",
       "      <td>1992-11</td>\n",
       "      <td>8.996615</td>\n",
       "      <td>8.847863</td>\n",
       "      <td>4.050880</td>\n",
       "      <td>13.569488</td>\n",
       "      <td>12.049436</td>\n",
       "      <td>4.163143</td>\n",
       "      <td>4.292269</td>\n",
       "      <td>4.269875</td>\n",
       "      <td>4.429636</td>\n",
       "      <td>...</td>\n",
       "      <td>4.087739</td>\n",
       "      <td>2.491551</td>\n",
       "      <td>2.630449</td>\n",
       "      <td>2.441477</td>\n",
       "      <td>4.446174</td>\n",
       "      <td>11.042298</td>\n",
       "      <td>12.193706</td>\n",
       "      <td>6.705386</td>\n",
       "      <td>2.680611</td>\n",
       "      <td>14.313863</td>\n",
       "    </tr>\n",
       "  </tbody>\n",
       "</table>\n",
       "<p>5 rows × 124 columns</p>\n",
       "</div>"
      ],
      "text/plain": [
       "      date       RPI   W875RX1  DPCERA3M086SBEA  CMRMTSPLx    RETAILx  \\\n",
       "1  1992-03  8.986886  8.839001         4.024816  13.544280  12.005919   \n",
       "2  1992-04  8.990617  8.841752         4.025655  13.550922  12.011936   \n",
       "4  1992-06  9.000118  8.851692         4.033497  13.552670  12.020207   \n",
       "5  1992-07  8.999322  8.850346         4.036839  13.565973  12.027287   \n",
       "9  1992-11  8.996615  8.847863         4.050880  13.569488  12.049436   \n",
       "\n",
       "     INDPRO   IPFPNSS   IPFINAL   IPCONGD  ...  DSERRG3M086SBEA  \\\n",
       "1  4.134350  4.262926  4.237888  4.394678  ...         4.065979   \n",
       "2  4.142042  4.270416  4.245491  4.404083  ...         4.069727   \n",
       "4  4.145887  4.273481  4.248251  4.405713  ...         4.072355   \n",
       "5  4.154825  4.283439  4.259519  4.418656  ...         4.076435   \n",
       "9  4.163143  4.292269  4.269875  4.429636  ...         4.087739   \n",
       "\n",
       "   CES0600000008  CES2000000008  CES3000000008  UMCSENTx  DTCOLNVHFNM  \\\n",
       "1       2.478218       2.621766       2.426571  4.330733    11.050763   \n",
       "2       2.481568       2.622492       2.430099  4.346399    11.071004   \n",
       "4       2.485740       2.630449       2.434490  4.387014    11.051223   \n",
       "5       2.484907       2.623218       2.436242  4.338597    11.060620   \n",
       "9       2.491551       2.630449       2.441477  4.446174    11.042298   \n",
       "\n",
       "    DTCTHFNM    INVEST   VIXCLSx  Real Oil Prices  \n",
       "1  12.159442  6.619469  2.786412        13.601725  \n",
       "2  12.159567  6.628021  2.784301        14.512195  \n",
       "4  12.169043  6.652466  2.691453        15.981442  \n",
       "5  12.169643  6.666419  2.588035        15.501779  \n",
       "9  12.193706  6.705386  2.680611        14.313863  \n",
       "\n",
       "[5 rows x 124 columns]"
      ]
     },
     "execution_count": 3,
     "metadata": {},
     "output_type": "execute_result"
    }
   ],
   "source": [
    "import pandas as pd\n",
    "\n",
    "# read the combined dataset\n",
    "df = pd.read_csv('./CSV/Combined_Log_Excl_Roil_Clean.csv')\n",
    "\n",
    "# 1. Drop columns that contain 50% or more negatives, excluding the first column (index)\n",
    "cols_to_drop = [col for col in df.columns[1:] if df[col].dtype in ['float64', 'int64'] and (df[col] < 0).mean() >= 0.5]\n",
    "df = df.drop(columns=cols_to_drop)\n",
    "\n",
    "# 2. Drop rows that contain any negatives excluding the first column\n",
    "rows_with_neg = df[(df[df.columns[1:]].select_dtypes(['float64', 'int64']) < 0).any(axis=1)].index\n",
    "df = df.drop(index=rows_with_neg)\n",
    "\n",
    "# save to csv\n",
    "df.to_csv('./CSV/Combined_Log_Excl_Roil_Clean_NoNeg.csv', index=False)\n",
    "\n",
    "df.head()"
   ]
  },
  {
   "cell_type": "markdown",
   "metadata": {},
   "source": [
    "### Row and column information"
   ]
  },
  {
   "cell_type": "code",
   "execution_count": 4,
   "metadata": {},
   "outputs": [
    {
     "name": "stdout",
     "output_type": "stream",
     "text": [
      "<class 'pandas.core.frame.DataFrame'>\n",
      "Index: 97 entries, 1 to 259\n",
      "Columns: 124 entries, date to Real Oil Prices\n",
      "dtypes: float64(123), object(1)\n",
      "memory usage: 94.7+ KB\n"
     ]
    }
   ],
   "source": [
    "df.info()"
   ]
  },
  {
   "cell_type": "markdown",
   "metadata": {},
   "source": [
    "### Statistical data of the real oil price dataset after log transformation"
   ]
  },
  {
   "cell_type": "code",
   "execution_count": 5,
   "metadata": {},
   "outputs": [
    {
     "name": "stdout",
     "output_type": "stream",
     "text": [
      "Descriptive Statistics for 'Real Oil Prices':\n",
      "count    97.000000\n",
      "mean     21.242248\n",
      "std       8.625632\n",
      "min       9.924812\n",
      "25%      13.601725\n",
      "50%      19.610459\n",
      "75%      29.439677\n",
      "max      38.771314\n",
      "Name: Real Oil Prices, dtype: float64\n"
     ]
    }
   ],
   "source": [
    "# Descriptive statistics of real oil price\n",
    "print(\"Descriptive Statistics for 'Real Oil Prices':\")\n",
    "print(df['Real Oil Prices'].describe())"
   ]
  },
  {
   "cell_type": "markdown",
   "metadata": {},
   "source": [
    "### Count Missing Values (blanks and NaNs) in the dataset"
   ]
  },
  {
   "cell_type": "code",
   "execution_count": 6,
   "metadata": {},
   "outputs": [
    {
     "name": "stdout",
     "output_type": "stream",
     "text": [
      "Total missing values: 0\n",
      "date               0\n",
      "RPI                0\n",
      "W875RX1            0\n",
      "DPCERA3M086SBEA    0\n",
      "CMRMTSPLx          0\n",
      "                  ..\n",
      "DTCOLNVHFNM        0\n",
      "DTCTHFNM           0\n",
      "INVEST             0\n",
      "VIXCLSx            0\n",
      "Real Oil Prices    0\n",
      "Length: 124, dtype: int64\n"
     ]
    }
   ],
   "source": [
    "missing_values_count = df.isnull().sum() # if missing or NaN values exist, they will be counted and return True\n",
    "total_missing_values = missing_values_count.sum()\n",
    "print(f'Total missing values: {total_missing_values}')\n",
    "print(missing_values_count) "
   ]
  },
  {
   "cell_type": "markdown",
   "metadata": {},
   "source": [
    "### Count Zeros"
   ]
  },
  {
   "cell_type": "code",
   "execution_count": 7,
   "metadata": {},
   "outputs": [
    {
     "name": "stdout",
     "output_type": "stream",
     "text": [
      "Total zero values: 6\n",
      "date               0\n",
      "RPI                0\n",
      "W875RX1            0\n",
      "DPCERA3M086SBEA    0\n",
      "CMRMTSPLx          0\n",
      "                  ..\n",
      "DTCOLNVHFNM        0\n",
      "DTCTHFNM           0\n",
      "INVEST             0\n",
      "VIXCLSx            0\n",
      "Real Oil Prices    0\n",
      "Length: 124, dtype: int64\n"
     ]
    }
   ],
   "source": [
    "zero_values_count = (df == 0).astype(int).sum(axis=0)\n",
    "total_zero_values = zero_values_count.sum()\n",
    "print(f'Total zero values: {total_zero_values}')\n",
    "print(zero_values_count)"
   ]
  },
  {
   "cell_type": "markdown",
   "metadata": {},
   "source": [
    "### Count Negative Values"
   ]
  },
  {
   "cell_type": "code",
   "execution_count": 8,
   "metadata": {},
   "outputs": [
    {
     "name": "stdout",
     "output_type": "stream",
     "text": [
      "Total negative values: 0\n",
      "RPI                0\n",
      "W875RX1            0\n",
      "DPCERA3M086SBEA    0\n",
      "CMRMTSPLx          0\n",
      "RETAILx            0\n",
      "                  ..\n",
      "DTCOLNVHFNM        0\n",
      "DTCTHFNM           0\n",
      "INVEST             0\n",
      "VIXCLSx            0\n",
      "Real Oil Prices    0\n",
      "Length: 123, dtype: int64\n"
     ]
    }
   ],
   "source": [
    "# Select only the numeric columns from DataFrame\n",
    "numeric_df = df.select_dtypes(include=['number'])\n",
    "\n",
    "negative_values_count = (numeric_df < 0).sum()\n",
    "total_negative_values = negative_values_count.sum()\n",
    "print(f'Total negative values: {total_negative_values}')\n",
    "print(negative_values_count)"
   ]
  }
 ],
 "metadata": {
  "kernelspec": {
   "display_name": "Python 3",
   "language": "python",
   "name": "python3"
  },
  "language_info": {
   "codemirror_mode": {
    "name": "ipython",
    "version": 3
   },
   "file_extension": ".py",
   "mimetype": "text/x-python",
   "name": "python",
   "nbconvert_exporter": "python",
   "pygments_lexer": "ipython3",
   "version": "3.10.12"
  }
 },
 "nbformat": 4,
 "nbformat_minor": 2
}
