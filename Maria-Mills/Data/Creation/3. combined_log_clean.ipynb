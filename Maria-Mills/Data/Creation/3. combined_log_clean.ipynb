{
 "cells": [
  {
   "cell_type": "markdown",
   "metadata": {},
   "source": [
    "## Combined_Log_Clean.csv\n",
    "### Dataset derived from `Combined_Log_Transformed.csv`\n",
    "#### All blanks removed"
   ]
  },
  {
   "cell_type": "code",
   "execution_count": 1,
   "metadata": {},
   "outputs": [],
   "source": [
    "import pandas as pd\n",
    "\n",
    "# read the combined dataset\n",
    "df = pd.read_csv('./CSV/Combined_Log_Transformed.csv')\n",
    "\n",
    "# drop any rows with missing values (blank cells)\n",
    "df = df.dropna()\n",
    "\n",
    "# save to csv\n",
    "df.to_csv('./CSV/Combined_Log_Clean.csv', index=False)\n"
   ]
  },
  {
   "cell_type": "markdown",
   "metadata": {},
   "source": [
    "### Row and column information"
   ]
  },
  {
   "cell_type": "code",
   "execution_count": 2,
   "metadata": {},
   "outputs": [
    {
     "name": "stdout",
     "output_type": "stream",
     "text": [
      "<class 'pandas.core.frame.DataFrame'>\n",
      "Index: 303 entries, 73 to 446\n",
      "Columns: 128 entries, date to Real Oil Prices\n",
      "dtypes: float64(127), object(1)\n",
      "memory usage: 305.4+ KB\n"
     ]
    }
   ],
   "source": [
    "df.info()"
   ]
  },
  {
   "cell_type": "markdown",
   "metadata": {},
   "source": [
    "### Statistical data of the real oil price dataset after log transformation"
   ]
  },
  {
   "cell_type": "code",
   "execution_count": 3,
   "metadata": {},
   "outputs": [
    {
     "name": "stdout",
     "output_type": "stream",
     "text": [
      "Descriptive Statistics for 'Real Oil Prices':\n",
      "count    303.000000\n",
      "mean       3.081621\n",
      "std        0.461147\n",
      "min        1.932086\n",
      "25%        2.708091\n",
      "50%        3.067687\n",
      "75%        3.512631\n",
      "max        3.889308\n",
      "Name: Real Oil Prices, dtype: float64\n"
     ]
    }
   ],
   "source": [
    "# Descriptive statistics of real oil price\n",
    "print(\"Descriptive Statistics for 'Real Oil Prices':\")\n",
    "print(df['Real Oil Prices'].describe())"
   ]
  },
  {
   "cell_type": "markdown",
   "metadata": {},
   "source": [
    "### Count Missing Values (blanks and NaNs) in the dataset"
   ]
  },
  {
   "cell_type": "code",
   "execution_count": 4,
   "metadata": {},
   "outputs": [
    {
     "name": "stdout",
     "output_type": "stream",
     "text": [
      "Total missing values: 0\n",
      "date               0\n",
      "RPI                0\n",
      "W875RX1            0\n",
      "DPCERA3M086SBEA    0\n",
      "CMRMTSPLx          0\n",
      "                  ..\n",
      "DTCOLNVHFNM        0\n",
      "DTCTHFNM           0\n",
      "INVEST             0\n",
      "VIXCLSx            0\n",
      "Real Oil Prices    0\n",
      "Length: 128, dtype: int64\n"
     ]
    }
   ],
   "source": [
    "missing_values_count = df.isnull().sum() # if missing or NaN values exist, they will be counted and return True\n",
    "total_missing_values = missing_values_count.sum()\n",
    "print(f'Total missing values: {total_missing_values}')\n",
    "print(missing_values_count) "
   ]
  },
  {
   "cell_type": "markdown",
   "metadata": {},
   "source": [
    "### Count Zeros"
   ]
  },
  {
   "cell_type": "code",
   "execution_count": 5,
   "metadata": {},
   "outputs": [
    {
     "name": "stdout",
     "output_type": "stream",
     "text": [
      "Total zero values: 34\n",
      "date               0\n",
      "RPI                0\n",
      "W875RX1            0\n",
      "DPCERA3M086SBEA    0\n",
      "CMRMTSPLx          0\n",
      "                  ..\n",
      "DTCOLNVHFNM        0\n",
      "DTCTHFNM           0\n",
      "INVEST             0\n",
      "VIXCLSx            0\n",
      "Real Oil Prices    0\n",
      "Length: 128, dtype: int64\n"
     ]
    }
   ],
   "source": [
    "zero_values_count = (df == 0).astype(int).sum(axis=0)\n",
    "total_zero_values = zero_values_count.sum()\n",
    "print(f'Total zero values: {total_zero_values}')\n",
    "print(zero_values_count)"
   ]
  },
  {
   "cell_type": "markdown",
   "metadata": {},
   "source": [
    "### Count Negative Values"
   ]
  },
  {
   "cell_type": "code",
   "execution_count": 6,
   "metadata": {},
   "outputs": [
    {
     "name": "stdout",
     "output_type": "stream",
     "text": [
      "Total negative values: 1454\n",
      "RPI                0\n",
      "W875RX1            0\n",
      "DPCERA3M086SBEA    0\n",
      "CMRMTSPLx          0\n",
      "RETAILx            0\n",
      "                  ..\n",
      "DTCOLNVHFNM        0\n",
      "DTCTHFNM           0\n",
      "INVEST             0\n",
      "VIXCLSx            0\n",
      "Real Oil Prices    0\n",
      "Length: 127, dtype: int64\n"
     ]
    }
   ],
   "source": [
    "# Select only the numeric columns from DataFrame\n",
    "numeric_df = df.select_dtypes(include=['number'])\n",
    "\n",
    "negative_values_count = (numeric_df < 0).sum()\n",
    "total_negative_values = negative_values_count.sum()\n",
    "print(f'Total negative values: {total_negative_values}')\n",
    "print(negative_values_count)"
   ]
  }
 ],
 "metadata": {
  "kernelspec": {
   "display_name": "Python 3",
   "language": "python",
   "name": "python3"
  },
  "language_info": {
   "codemirror_mode": {
    "name": "ipython",
    "version": 3
   },
   "file_extension": ".py",
   "mimetype": "text/x-python",
   "name": "python",
   "nbconvert_exporter": "python",
   "pygments_lexer": "ipython3",
   "version": "3.10.12"
  }
 },
 "nbformat": 4,
 "nbformat_minor": 2
}
