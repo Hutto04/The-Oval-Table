{
 "cells": [
  {
   "cell_type": "markdown",
   "metadata": {},
   "source": [
    "## Dataset After Log Transformation - as per client's requirement\n",
    "### Real Oil Prices not transformed"
   ]
  },
  {
   "cell_type": "code",
   "execution_count": 17,
   "metadata": {},
   "outputs": [
    {
     "name": "stdout",
     "output_type": "stream",
     "text": [
      "Total zero values: 10\n",
      "Total negative values: 99\n",
      "   ACOGNO    AMDMNOx    AMDMUOx    ANDENOx    AWHMAN   AWOTMAN   BOGMBASE  \\\n",
      "0     NaN  11.520235  12.788297  10.247722  3.706228  1.223776  12.309080   \n",
      "1     NaN  11.500043  12.794584  10.288905  3.706228  1.193923  12.291332   \n",
      "2     NaN  11.489681  12.803461  10.247763  3.706228  1.223776  12.307726   \n",
      "3     NaN  11.471084  12.797040  10.199538  3.701302  1.193923  12.324300   \n",
      "4     NaN  11.460753  12.793347  10.205587  3.706228  1.223776  12.330059   \n",
      "\n",
      "     BUSINVx  BUSLOANS     CE16OV  ...    USGOVT     USTPU   USTRADE  \\\n",
      "0  13.380836  6.215384  11.598066  ...  9.724062  9.931395  9.384235   \n",
      "1  13.381858  6.215983  11.594321  ...  9.726691  9.931540  9.384840   \n",
      "2  13.385085  6.225226  11.597607  ...  9.726452  9.933483  9.389657   \n",
      "3  13.385864  6.230038  11.598663  ...  9.727049  9.935519  9.392187   \n",
      "4  13.382745  6.230387  11.599919  ...  9.728539  9.938420  9.395965   \n",
      "\n",
      "   USWTRADE   VIXCLSx   W875RX1  WPSFD49207  WPSFD49502   WPSID61   WPSID62  \n",
      "0  8.496725  2.897088  8.688117    4.658711    4.650144  4.628887  4.545420  \n",
      "1  8.496317  3.026465  8.693279    4.645352    4.632785  4.617099  4.505350  \n",
      "2  8.494354  3.159720  8.702643    4.632785    4.615121  4.604170  4.479607  \n",
      "3  8.496562  3.136164  8.705961    4.627910    4.608166  4.594109  4.449685  \n",
      "4  8.497603  2.938781  8.706755    4.632785    4.615121  4.592085  4.460144  \n",
      "\n",
      "[5 rows x 110 columns]\n"
     ]
    }
   ],
   "source": [
    "import pandas as pd\n",
    "import numpy as np\n",
    "\n",
    "# read the combined dataset\n",
    "df = pd.read_csv('Combined_Dataset_After_CPI.csv')\n",
    "\n",
    "# list of percentage columns provided by client\n",
    "percentages = ['UNRATE', 'FEDFUNDS', 'CP3Mx', 'TB3MS', 'TB6MS', 'GS1', 'GS5', 'GS10', 'AAA', 'BAA', 'COMPAPFF', 'TB3SMFFM', 'TB6SMFFM', 'T1YFFM', 'T5YFFM', 'T10YFFM', 'AAAFFM', 'BAAFFM']\n",
    "\n",
    "# exclude 'date' column, Real Oil Prices and percentage columns\n",
    "excluded_columns = percentages + ['date'] + ['Real Oil Prices']\n",
    "\n",
    "# apply log transformation to all other numeric columns\n",
    "numeric_columns = df.select_dtypes(include=[np.number]).columns.difference(excluded_columns)\n",
    "\n",
    "# Check for zero values\n",
    "zero_values_count = (df[numeric_columns] == 0).sum()\n",
    "print(f'Total zero values: {zero_values_count.sum()}')\n",
    "\n",
    "# Check for negative values\n",
    "negative_values_count = (df[numeric_columns] < 0).sum()\n",
    "print(f'Total negative values: {negative_values_count.sum()}')\n",
    "\n",
    "# apply log transformation using numpy's log function\n",
    "# adding a small number to avoid log(0) which is undefined\n",
    "small_constant = 1e-6\n",
    "# applymap() applies the function to each element of the dataframe\n",
    "df[numeric_columns] = df[numeric_columns].applymap(lambda x: np.log(x + small_constant) if x > 0 else np.nan)\n",
    "\n",
    "# Check the transformation\n",
    "print(df[numeric_columns].head())"
   ]
  },
  {
   "cell_type": "markdown",
   "metadata": {},
   "source": [
    "### Seeing what is the smallest non-zero value in the dataset"
   ]
  },
  {
   "cell_type": "code",
   "execution_count": 18,
   "metadata": {},
   "outputs": [
    {
     "name": "stdout",
     "output_type": "stream",
     "text": [
      "Smallest non-zero values in each column:\n",
      "ACOGNO        11.367264\n",
      "AMDMNOx       11.453453\n",
      "AMDMUOx       12.783054\n",
      "ANDENOx       10.188601\n",
      "AWHMAN         3.648057\n",
      "                ...    \n",
      "W875RX1        8.688117\n",
      "WPSFD49207     4.627910\n",
      "WPSFD49502     4.607168\n",
      "WPSID61        4.584967\n",
      "WPSID62        4.449685\n",
      "Length: 110, dtype: float64\n"
     ]
    }
   ],
   "source": [
    "# Assuming df is your DataFrame and numeric_columns contains the columns you want to transform\n",
    "smallest_nonzero = df[numeric_columns][df[numeric_columns] > 0].min()\n",
    "\n",
    "print(\"Smallest non-zero values in each column:\")\n",
    "print(smallest_nonzero)\n",
    "# if any values are close to 1e-6, then we'd consider using a smaller constant, in this case we're good\n",
    "\n",
    "# Save the transformed dataset\n",
    "df.to_csv('Combined_Dataset_After_Log_Transform_With_Real_Oil_NOT_Transformed.csv', index=False)"
   ]
  },
  {
   "cell_type": "markdown",
   "metadata": {},
   "source": [
    "### Statistical data of the real oil price dataset after log transformation"
   ]
  },
  {
   "cell_type": "code",
   "execution_count": 19,
   "metadata": {},
   "outputs": [
    {
     "name": "stdout",
     "output_type": "stream",
     "text": [
      "Descriptive Statistics for 'Real Oil Prices':\n",
      "count    450.000000\n",
      "mean       3.004940\n",
      "std        0.459787\n",
      "min        1.866020\n",
      "25%        2.652537\n",
      "50%        2.922401\n",
      "75%        3.375113\n",
      "max        4.120085\n",
      "Name: Real Oil Prices, dtype: float64\n"
     ]
    }
   ],
   "source": [
    "# Descriptive statistics of real oil price\n",
    "print(\"Descriptive Statistics for 'Real Oil Prices':\")\n",
    "print(df['Real Oil Prices'].describe())"
   ]
  },
  {
   "cell_type": "markdown",
   "metadata": {},
   "source": [
    "### Count Missing Values (blanks and NaNs) in the dataset"
   ]
  },
  {
   "cell_type": "code",
   "execution_count": 20,
   "metadata": {},
   "outputs": [
    {
     "name": "stdout",
     "output_type": "stream",
     "text": [
      "Total missing values: 199\n",
      "date               0\n",
      "RPI                0\n",
      "W875RX1            0\n",
      "DPCERA3M086SBEA    0\n",
      "CMRMTSPLx          1\n",
      "                  ..\n",
      "DTCOLNVHFNM        1\n",
      "DTCTHFNM           1\n",
      "INVEST             0\n",
      "VIXCLSx            0\n",
      "Real Oil Prices    0\n",
      "Length: 128, dtype: int64\n"
     ]
    }
   ],
   "source": [
    "missing_values_count = df.isnull().sum() # if missing or NaN values exist, they will be counted and return True\n",
    "total_missing_values = missing_values_count.sum()\n",
    "print(f'Total missing values: {total_missing_values}')\n",
    "print(missing_values_count) "
   ]
  },
  {
   "cell_type": "markdown",
   "metadata": {},
   "source": [
    "### Count Zeros"
   ]
  },
  {
   "cell_type": "code",
   "execution_count": 22,
   "metadata": {},
   "outputs": [
    {
     "name": "stdout",
     "output_type": "stream",
     "text": [
      "Total zero values: 36\n",
      "date               0\n",
      "RPI                0\n",
      "W875RX1            0\n",
      "DPCERA3M086SBEA    0\n",
      "CMRMTSPLx          0\n",
      "                  ..\n",
      "DTCOLNVHFNM        0\n",
      "DTCTHFNM           0\n",
      "INVEST             0\n",
      "VIXCLSx            0\n",
      "Real Oil Prices    0\n",
      "Length: 128, dtype: int64\n"
     ]
    }
   ],
   "source": [
    "zero_values_count = (df == 0).astype(int).sum(axis=0)\n",
    "total_zero_values = zero_values_count.sum()\n",
    "print(f'Total zero values: {total_zero_values}')\n",
    "print(zero_values_count)"
   ]
  },
  {
   "cell_type": "markdown",
   "metadata": {},
   "source": [
    "### Count Negative Values"
   ]
  },
  {
   "cell_type": "code",
   "execution_count": 24,
   "metadata": {},
   "outputs": [
    {
     "name": "stdout",
     "output_type": "stream",
     "text": [
      "Total negative values: 2281\n",
      "RPI                0\n",
      "W875RX1            0\n",
      "DPCERA3M086SBEA    0\n",
      "CMRMTSPLx          0\n",
      "RETAILx            0\n",
      "                  ..\n",
      "DTCOLNVHFNM        0\n",
      "DTCTHFNM           0\n",
      "INVEST             0\n",
      "VIXCLSx            0\n",
      "Real Oil Prices    0\n",
      "Length: 127, dtype: int64\n"
     ]
    }
   ],
   "source": [
    "# Select only the numeric columns from DataFrame\n",
    "numeric_df = df.select_dtypes(include=['number'])\n",
    "\n",
    "negative_values_count = (numeric_df < 0).sum()\n",
    "total_negative_values = negative_values_count.sum()\n",
    "print(f'Total negative values: {total_negative_values}')\n",
    "print(negative_values_count)"
   ]
  },
  {
   "cell_type": "code",
   "execution_count": null,
   "metadata": {},
   "outputs": [],
   "source": []
  }
 ],
 "metadata": {
  "kernelspec": {
   "display_name": "Python 3",
   "language": "python",
   "name": "python3"
  },
  "language_info": {
   "codemirror_mode": {
    "name": "ipython",
    "version": 3
   },
   "file_extension": ".py",
   "mimetype": "text/x-python",
   "name": "python",
   "nbconvert_exporter": "python",
   "pygments_lexer": "ipython3",
   "version": "3.10.12"
  }
 },
 "nbformat": 4,
 "nbformat_minor": 2
}
